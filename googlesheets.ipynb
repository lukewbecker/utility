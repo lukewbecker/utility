{
 "cells": [
  {
   "cell_type": "code",
   "execution_count": 10,
   "id": "1782ffe9-9b7a-4969-8c87-8c37bc52e93c",
   "metadata": {},
   "outputs": [],
   "source": [
    "import gspread\n",
    "from oauth2client.service_account import ServiceAccountCredentials\n",
    "\n",
    "scope = [\"https://spreadsheets.google.com/feeds\", 'https://www.googleapis.com/auth/spreadsheets',\n",
    "         \"https://www.googleapis.com/auth/drive.file\", \"https://www.googleapis.com/auth/drive\"]\n",
    "\n",
    "credentials = ServiceAccountCredentials.from_json_keyfile_name('client_secret.json', scope)\n",
    "client = gspread.authorize(credentials)\n",
    "\n",
    "spreadsheet = client.open('CSV-to-Google-Sheet')\n",
    "\n",
    "with open('data.csv', 'r') as file_obj:\n",
    "    content = file_obj.read()\n",
    "    client.import_csv(spreadsheet.id, data=content)"
   ]
  },
  {
   "cell_type": "code",
   "execution_count": 5,
   "id": "5befc1be-718b-495c-ab49-fcadad0983a8",
   "metadata": {},
   "outputs": [],
   "source": [
    "import google.oauth2.service_account"
   ]
  },
  {
   "cell_type": "markdown",
   "id": "e8fd6990-f2fa-4c71-b13c-740b3ecba5c8",
   "metadata": {},
   "source": [
    "- I need to switch out using the deprecated Oauth2 client for the new library. Docs are here:\n",
    "https://google-auth.readthedocs.io/en/master/"
   ]
  },
  {
   "cell_type": "code",
   "execution_count": null,
   "id": "46b4d409-44b8-419e-b63c-c7c6a15691c1",
   "metadata": {},
   "outputs": [],
   "source": []
  }
 ],
 "metadata": {
  "kernelspec": {
   "display_name": "Python 3",
   "language": "python",
   "name": "python3"
  },
  "language_info": {
   "codemirror_mode": {
    "name": "ipython",
    "version": 3
   },
   "file_extension": ".py",
   "mimetype": "text/x-python",
   "name": "python",
   "nbconvert_exporter": "python",
   "pygments_lexer": "ipython3",
   "version": "3.8.11"
  }
 },
 "nbformat": 4,
 "nbformat_minor": 5
}
