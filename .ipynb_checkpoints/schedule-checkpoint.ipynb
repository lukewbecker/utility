{
 "cells": [
  {
   "cell_type": "code",
   "execution_count": 1,
   "id": "a3b950aa-2d3e-48ef-8af8-f307a632ac56",
   "metadata": {},
   "outputs": [],
   "source": [
    "import schedule\n",
    "import time"
   ]
  },
  {
   "cell_type": "code",
   "execution_count": 2,
   "id": "26f1724d-7814-48e2-8d18-a05af3ffebf6",
   "metadata": {},
   "outputs": [],
   "source": [
    "def job_test():\n",
    "    print(\"I'm working...\")"
   ]
  },
  {
   "cell_type": "code",
   "execution_count": 5,
   "id": "f4cc0544-13ba-4ea2-b50e-d69407043b51",
   "metadata": {},
   "outputs": [
    {
     "data": {
      "text/plain": [
       "Every 10 seconds do job_test() (last run: [never], next run: 2021-08-08 20:22:07)"
      ]
     },
     "execution_count": 5,
     "metadata": {},
     "output_type": "execute_result"
    }
   ],
   "source": [
    "schedule.every(10).seconds.do(job_test)"
   ]
  },
  {
   "cell_type": "code",
   "execution_count": null,
   "id": "b3efb394-aca5-4922-9030-2b8230810764",
   "metadata": {},
   "outputs": [],
   "source": []
  },
  {
   "cell_type": "code",
   "execution_count": null,
   "id": "fab1a0fd-ea12-407f-9a5a-31f9727ac090",
   "metadata": {},
   "outputs": [],
   "source": []
  }
 ],
 "metadata": {
  "kernelspec": {
   "display_name": "Python 3",
   "language": "python",
   "name": "python3"
  },
  "language_info": {
   "codemirror_mode": {
    "name": "ipython",
    "version": 3
   },
   "file_extension": ".py",
   "mimetype": "text/x-python",
   "name": "python",
   "nbconvert_exporter": "python",
   "pygments_lexer": "ipython3",
   "version": "3.8.11"
  }
 },
 "nbformat": 4,
 "nbformat_minor": 5
}
